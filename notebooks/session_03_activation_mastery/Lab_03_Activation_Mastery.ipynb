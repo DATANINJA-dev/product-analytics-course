{
 "cells": [
  {
   "cell_type": "markdown",
   "metadata": {},
   "source": [
    "# Lab 03: Activation Mastery Challenge\n",
    "## Apply Your Skills to Optimize Real Activation Strategy\n",
    "\n",
    "**Duration**: 2-3 hours  \n",
    "**Objective**: Apply activation analysis techniques to solve a real business challenge  \n",
    "**Case Study**: StreamFlow - A Music Streaming Platform Activation Crisis\n",
    "**Skills Applied**: Activation metrics, onboarding optimization, strategic implementation\n",
    "\n",
    "---"
   ]
  },
  {
   "cell_type": "markdown",
   "metadata": {},
   "source": "## Your Challenge: Save StreamFlow's User Engagement\n\n**The Business Reality You're Walking Into:**\nYou've just been hired as Senior Product Analyst at StreamFlow, a rapidly growing music streaming platform that's facing a classic startup crisis: they're great at getting people to sign up, but terrible at getting them to actually use the product.\n\nThink of it like a trendy new restaurant that has long lines of people wanting to try it, but 80% of customers leave after their first visit and never come back. Something is fundamentally broken in the experience.\n\n**The Numbers That Keep Executives Awake at Night:**\n- **Acquisition Success**: 50,000 new signups monthly (marketing is working!)\n- **Activation Failure**: Only 12% become active users (industry benchmark: 25%)\n- **Economic Crisis**: €45 cost per signup, but €375 true cost per engaged user\n- **User Hemorrhage**: 78% of new users disappear within 30 days\n- **Board Pressure**: \"Fix this or we cut your budget\"\n\n**What This Really Means:**\nFor every 100 people who sign up excited to discover new music, only 12 are still using StreamFlow a month later. The other 88 tried the product, didn't experience its value, and moved on to Spotify, Apple Music, or just went back to YouTube.\n\nThis is costing the company millions in wasted marketing spend and represents an existential threat to their growth strategy."
  },
  {
   "cell_type": "markdown",
   "metadata": {},
   "source": "**Your Mission: Become StreamFlow's Activation Detective**\n\nUsing the systematic methodology you mastered from Facebook's \"7 friends in 10 days\" breakthrough, you need to solve StreamFlow's activation puzzle and save the company's growth trajectory.\n\n**Think Like Facebook's Growth Team:**\nJust like Chamath Palihapitiya's team analyzed millions of user behaviors to discover why friend connections predicted retention, you'll analyze StreamFlow's user data to discover what music behaviors predict long-term engagement.\n\nMaybe it's \"15 songs + 2 playlists in 7 days\" or \"5 artists followed + 1 shared song in 3 days\" - your job is to find StreamFlow's unique activation pattern through systematic analysis.\n\n**What Success Looks Like:**\n- **Discovery**: Identify StreamFlow's equivalent of \"7 friends in 10 days\" \n- **Strategy**: Develop data-driven recommendations to improve activation rate from 12% to 25%+\n- **Implementation**: Present an executive-level strategic plan that transforms user engagement\n- **Business Impact**: Quantify how activation improvements will save millions in marketing waste\n\n**The Stakes:**\nIf you succeed, you'll transform StreamFlow from a leaky bucket (where marketing spend disappears) into a growth engine (where every signup has a real chance of becoming a loyal customer). If you fail, the company will continue burning money on users who never experience the product's value.\n\nThis is exactly the type of challenge that separates senior product analysts earning €80-120K from junior analysts stuck calculating basic conversion rates."
  },
  {
   "cell_type": "markdown",
   "metadata": {},
   "source": [
    "## Part 1: Activation Fundamentals Analysis (45 minutes)"
   ]
  },
  {
   "cell_type": "markdown",
   "metadata": {},
   "source": "### **Your Task: Master StreamFlow's Activation Metrics**\n\nApply the fundamental activation analysis techniques you learned in **03A_Activation_Fundamentals** to diagnose exactly why StreamFlow is hemorrhaging users.\n\n**What You're Looking For:**\nJust like a doctor running tests to diagnose why a patient feels sick, you need to run systematic analysis to understand why 88% of StreamFlow's users abandon the product. The symptoms are clear (low retention), but you need to find the root causes.\n\n**Your Analytical Detective Work:**\n\n**1. Calculate current activation rate by user segment**\n   - Maybe users from social media activate better than Google search users (like Facebook discovered)\n   - Perhaps mobile users behave differently from desktop users\n   - Different countries might have different music discovery patterns\n\n**2. Analyze time-to-first-value patterns** \n   - How long does it take users to find music they love?\n   - Are some users finding value immediately while others never find it?\n   - Is there a \"golden window\" where users need to succeed or they're lost forever?\n\n**3. Compare behavioral cohorts (activated vs non-activated)**\n   - What do engaged users do in their first week that churned users don't?\n   - How much better is the retention of users who experience StreamFlow's core value?\n\n**4. Identify feature adoption sequences**\n   - Should users create playlists first or discover new artists first?  \n   - Do users need to follow friends before they understand the social features?\n   - Which actions enable other actions vs which actions compete for attention?\n\n**What You'll Deliver:**\n- A comprehensive activation dashboard that shows exactly where and why users are getting lost\n- Strategic insights about what's broken in StreamFlow's current user experience  \n- Hypotheses for what StreamFlow's activation moment might be (their \"7 friends in 10 days\")"
  },
  {
   "cell_type": "code",
   "execution_count": null,
   "metadata": {},
   "outputs": [],
   "source": [
    "# Load StreamFlow activation data\n",
    "import pandas as pd\n",
    "import numpy as np\n",
    "import matplotlib.pyplot as plt\n",
    "import seaborn as sns\n",
    "from datetime import datetime, timedelta\n",
    "\n",
    "# Load the datasets\n",
    "df_users = pd.read_csv('streamflow_users.csv')\n",
    "df_actions = pd.read_csv('streamflow_user_actions.csv')\n",
    "df_listening = pd.read_csv('streamflow_listening_behavior.csv')\n",
    "\n",
    "print(\"StreamFlow Activation Analysis - Current State\")\n",
    "print(\"=\" * 50)\n",
    "print(\"User Data Sample:\")\n",
    "print(df_users.head())\n",
    "print(\"\\nAction Data Sample:\")\n",
    "print(df_actions.head())\n",
    "print(\"\\nListening Behavior Sample:\")\n",
    "print(df_listening.head())\n",
    "\n",
    "print(\"\\n\" + \"=\" * 60)\n",
    "print(\"YOUR MISSION: Discover StreamFlow's activation crisis\")\n",
    "print(\"Apply Facebook's methodology to identify the core problems...\")\n",
    "print(\"=\" * 60)\n",
    "\n",
    "# TODO: Begin your activation analysis here\n",
    "# Follow the methodology from 03A_Activation_Fundamentals"
   ]
  },
  {
   "cell_type": "markdown",
   "metadata": {},
   "source": "### **Exercise 1.1: Calculate Activation Rate**\nDefine what \"activation\" means for StreamFlow and calculate current performance.\n\n**The Challenge You're Solving:**\nStreamFlow currently has no clear definition of what makes a user \"activated.\" They measure signups (vanity metric) and monthly active users (too broad), but they don't know what specific early behaviors predict long-term engagement.\n\nThis is like a restaurant measuring how many people make reservations and how many people eat there monthly, but not tracking what makes a first-time visitor become a regular customer.\n\n**Your Detective Questions:**\n- **Songs listened**: Do users need to hear 5 songs, 15 songs, or 50 songs to \"get hooked\" on StreamFlow?\n- **Playlists created**: Does music curation create emotional investment that drives retention?\n- **Artists followed**: Is social discovery and connection crucial for engagement?\n- **Premium features used**: Do advanced features create lock-in, or do they overwhelm new users?\n- **Social actions**: Do friend connections and sharing behaviors drive retention like Facebook?\n- **Combination patterns**: Maybe activation requires songs AND playlists AND social actions together?\n\n**Your Investigation Process:**\n1. **Explore the data** like a detective examining evidence\n2. **Form hypotheses** about what might predict retention based on music platform psychology\n3. **Test different activation definitions** systematically (like Facebook tested friend connection thresholds)\n4. **Calculate activation rates** for different user segments to find patterns  \n5. **Compare with industry reality** - music platforms typically see 20-30% activation, but the best achieve 40%+\n\n**Success = Discovery:**\nFind the activation definition that most accurately predicts which StreamFlow users will become long-term customers, and understand which user segments have the highest activation potential."
  },
  {
   "cell_type": "markdown",
   "metadata": {},
   "source": "**Your Analysis Framework - The StreamFlow Activation Hunt:**\n\n```\n🎵 Potential StreamFlow Activation Definitions to Test:\n\nSongs Listened Approach:\n• 5+ songs in first session (immediate engagement)\n• 15+ songs in first 3 days (habit formation)  \n• 30+ songs in first week (deep exploration)\n• 50+ songs in first month (platform dependency)\n\nCuration & Discovery Approach:\n• Created 1+ playlist (personal investment)\n• Created 3+ playlists (serious curation behavior)\n• Followed 5+ artists (taste profile established) \n• Used search 10+ times (active music discovery)\n\nSocial & Sharing Approach:\n• Connected with 1+ friend (social context)\n• Shared 1+ song (social recommendation behavior)\n• Followed friends' playlists (social discovery)\n• Commented on music (community engagement)\n\nPremium & Advanced Features:\n• Used any premium feature (upgrade intent)\n• Downloaded music offline (convenience value)\n• Used high-quality audio (audiophile engagement)\n• Created collaborative playlists (advanced social)\n\nMulti-Behavior Combinations:\n• 10 songs + 1 playlist (consumption + curation)\n• 5 artists followed + 1 shared song (discovery + social)\n• 15 songs + 1 friend connection + 1 playlist (comprehensive engagement)\n```\n\n**Success Criteria - What Makes a Winning Activation Definition:**\n- **Predictive Power**: Activated users have 5x+ higher retention than non-activated\n- **Reasonable Threshold**: Achievable for motivated users within reasonable time\n- **Business Actionable**: Product team can optimize onboarding around this behavior\n- **Segment Insights**: Reveals which user types have highest activation potential\n- **Benchmark Performance**: Gets StreamFlow closer to industry-leading 25-40% activation rates"
  },
  {
   "cell_type": "code",
   "execution_count": null,
   "metadata": {},
   "outputs": [],
   "source": [
    "# Exercise 1.1: Your activation rate analysis\n",
    "\n",
    "# TODO: Define activation criteria for StreamFlow\n",
    "# Hint: Start by exploring correlations between Day 1 behaviors and long-term retention\n",
    "# Example approach:\n",
    "# 1. Load the data and explore user behaviors\n",
    "# 2. Test different thresholds (e.g., users who listen to 10+ songs vs 5+ vs 15+)\n",
    "# 3. Calculate retention rates for each definition\n",
    "# 4. Choose the definition with strongest predictive power\n",
    "\n",
    "# Your code here...\n",
    "# df_users = pd.read_csv('streamflow_users.csv')\n",
    "# df_actions = pd.read_csv('streamflow_user_actions.csv') \n",
    "# df_listening = pd.read_csv('streamflow_listening_behavior.csv')\n",
    "\n",
    "# Step 1: Explore the data structure\n",
    "print(\"StreamFlow User Data Overview:\")\n",
    "print(\"==============================\")\n",
    "# Add your exploratory analysis here\n",
    "\n",
    "# Step 2: Test activation definitions\n",
    "print(\"\\nTesting Activation Definitions:\")\n",
    "print(\"==============================\")\n",
    "# Test different behavioral thresholds and measure retention correlation\n",
    "\n",
    "# Step 3: Calculate activation rates by segment\n",
    "print(\"\\nActivation Rate by Segment:\")\n",
    "print(\"===========================\")\n",
    "# Analyze activation performance by signup source, country, device type, etc.\n",
    "\n",
    "# Step 4: Benchmark analysis\n",
    "print(\"\\nBenchmark Comparison:\")\n",
    "print(\"=====================\")\n",
    "# Compare StreamFlow's performance to industry standards"
   ]
  },
  {
   "cell_type": "markdown",
   "metadata": {},
   "source": [
    "### **Exercise 1.2: Time-to-First-Value Analysis**\n",
    "Understand how quickly users experience StreamFlow's core value."
   ]
  },
  {
   "cell_type": "markdown",
   "metadata": {},
   "source": [
    "### **Exercise 1.3: Behavioral Cohort Comparison**\n",
    "Compare long-term retention between activated and non-activated users."
   ]
  },
  {
   "cell_type": "markdown",
   "metadata": {},
   "source": [
    "### **Exercise 1.4: Feature Adoption Sequence**\n",
    "Map the actions that lead to engagement.\n",
    "\n",
    "---"
   ]
  },
  {
   "cell_type": "markdown",
   "metadata": {},
   "source": [
    "## Part 2: Onboarding Optimization Analysis (60 minutes)"
   ]
  },
  {
   "cell_type": "markdown",
   "metadata": {},
   "source": [
    "### **Your Task: Discover StreamFlow's Activation Moment**\n",
    "\n",
    "Apply the advanced analysis techniques from **03B_Onboarding_Optimization** to identify StreamFlow's equivalent of Facebook's \"7 friends in 10 days.\"\n",
    "\n",
    "**Analysis Requirements:**\n",
    "1. User journey mapping from signup to engagement\n",
    "2. Behavioral sequence analysis for different user segments\n",
    "3. Feature interaction pattern discovery\n",
    "4. Time window optimization for activation measurement\n",
    "5. Threshold testing for activation metrics\n",
    "\n",
    "**Deliverables:**\n",
    "- StreamFlow's activation moment hypothesis\n",
    "- Supporting data analysis and visualizations\n",
    "- Actionable insights for onboarding optimization"
   ]
  },
  {
   "cell_type": "markdown",
   "metadata": {},
   "source": [
    "### **Exercise 2.1: User Journey Mapping**\n",
    "Map the complete path from signup to retention."
   ]
  },
  {
   "cell_type": "markdown",
   "metadata": {},
   "source": "### **Exercise 2.2: Activation Moment Discovery**\nFind StreamFlow's equivalent of \"7 friends in 10 days.\"\n\n**Your Mission: The Most Critical Analysis**\nThis is where you earn your senior analyst salary. You need to systematically discover StreamFlow's activation threshold - the specific behavioral pattern that predicts long-term engagement with statistical confidence.\n\n**Think Like Facebook's Growth Team:**\nWhen Chamath Palihapitiya's team analyzed user behavior, they didn't just look at averages. They segmented users by retention and compared behavioral patterns to find the \"magic threshold\" where engagement jumps dramatically.\n\nYou need to do the same detective work for music streaming.\n\n**The Facebook Method Applied to Music Streaming:**\n```\n1. Segment users by retention (90-day active vs churned)\n2. Compare behavioral patterns between segments systematically\n3. Test different thresholds (songs, playlists, social actions) \n4. Identify the \"magic number\" where retention jumps dramatically\n5. Validate with statistical significance testing\n```\n\n**Your Activation Hypotheses to Test Systematically:**\n\n**🎵 \"X Songs in Y Days\" Hypothesis:**\n- Maybe it's \"20 songs in 7 days\" (deep content engagement)\n- Or \"12 songs in 3 days\" (immediate habit formation) \n- Or \"35 songs in 14 days\" (sustained exploration)\n\n**🎶 \"X Playlists + Y Artists\" Hypothesis:**\n- Maybe it's \"2 playlists + 10 artists followed\" (curation + discovery combo)\n- Or \"1 playlist + 15 artists + 5 songs shared\" (personal + social engagement)\n- Or \"3 playlists created + 1 collaborative playlist\" (individual + social curation)\n\n**👥 \"X Social Actions\" Hypothesis:**  \n- Maybe it's \"3 friends connected + 2 songs shared\" (social music discovery)\n- Or \"5 artist follows + 1 playlist shared + 3 song comments\" (community engagement)\n- Or \"1 friend connection + 10 social interactions\" (relationship-driven music)\n\n**🚀 \"Multi-Behavior Combo\" Hypothesis:**\n- Maybe activation requires songs AND playlists AND social actions together\n- Like \"15 songs + 1 playlist + 2 social actions in 7 days\"\n- Or \"10 songs + 3 artists followed + 1 friend connection in 5 days\""
  },
  {
   "cell_type": "markdown",
   "metadata": {},
   "source": "**Your Analysis Approach - The Systematic Discovery Process:**\n\n**Step 1: Create behavioral buckets for systematic testing**\n```\nSong Listening Buckets:\n• 0 songs (no engagement)\n• 1-5 songs (sampling)  \n• 6-15 songs (exploration)\n• 16-25 songs (moderate engagement)\n• 26-40 songs (heavy usage)\n• 41+ songs (power user behavior)\n```\n\n**Step 2: Calculate retention rates for each bucket**\nLook for the dramatic retention jump that Facebook found at \"7 friends\":\n- Facebook saw 8% retention → 78% retention (10x improvement!)\n- You need to find where StreamFlow users' retention jumps dramatically\n- Maybe 15% retention → 65% retention at \"20 songs in 7 days\"?\n\n**Step 3: Look for threshold effects, not gradual improvements**\n- Gradual improvement: 15% → 18% → 22% → 26% retention (incremental)\n- Threshold effect: 15% → 17% → 19% → 58% retention (dramatic jump = activation moment!)\n\n**Step 4: Test different timing windows systematically**  \n- 1 day window: Too short for music discovery?\n- 3 days: Enough for weekend binge listening?\n- 7 days: Full week of music exploration?\n- 14 days: Extended discovery period?\n\n**Step 5: Validate statistical significance**\nMake sure your findings are real, not just statistical noise:\n- Large enough sample sizes in each bucket\n- Consistent patterns across different user segments  \n- Reproducible results across different time periods\n\n**Expected Outcome - Your \"Eureka!\" Moment:**\nDiscover StreamFlow's activation moment with data backing:\n- **Example**: \"18 songs + 1 playlist in 7 days\" \n- **Supporting Evidence**: Users meeting this threshold have 65% 90-day retention vs 12% for users who don't\n- **Statistical Confidence**: Based on analysis of 10,000+ users with p-value < 0.01\n- **Business Impact**: Optimizing onboarding around this pattern could improve overall activation from 12% to 30%+\n\nThis is the insight that transforms StreamFlow from a leaky bucket into a growth engine."
  },
  {
   "cell_type": "markdown",
   "metadata": {},
   "source": [
    "### **Exercise 2.3: Time Window Optimization**\n",
    "Determine optimal timeframe for measuring activation."
   ]
  },
  {
   "cell_type": "markdown",
   "metadata": {},
   "source": [
    "### **Exercise 2.4: Threshold Testing**\n",
    "Test different engagement thresholds for activation prediction.\n",
    "\n",
    "---"
   ]
  },
  {
   "cell_type": "markdown",
   "metadata": {},
   "source": [
    "## Part 3: Strategic Implementation Framework (45 minutes)"
   ]
  },
  {
   "cell_type": "markdown",
   "metadata": {},
   "source": [
    "### **Exercise 3.1: Product Strategy Development**\n",
    "Translate activation insights into product roadmap."
   ]
  },
  {
   "cell_type": "markdown",
   "metadata": {},
   "source": [
    "### **Exercise 3.2: UX Optimization Plan**\n",
    "Design onboarding experience around activation moment."
   ]
  },
  {
   "cell_type": "markdown",
   "metadata": {},
   "source": [
    "### **Exercise 3.3: Business Impact Projection**\n",
    "Quantify the financial impact of activation improvements."
   ]
  },
  {
   "cell_type": "markdown",
   "metadata": {},
   "source": [
    "### **Exercise 3.4: Implementation Roadmap**\n",
    "Create executive-level implementation plan.\n",
    "\n",
    "**Your Final Deliverable:**\n",
    "Develop a comprehensive implementation roadmap that StreamFlow's executive team can execute to transform their activation performance.\n",
    "\n",
    "**Roadmap Components:**\n",
    "\n",
    "**Phase 1: Foundation (Months 1-2)**\n",
    "- Implement real-time activation tracking dashboard\n",
    "- Redesign onboarding flow around discovered activation moment  \n",
    "- Launch A/B tests for top 3 activation improvements\n",
    "- Train customer success team on activation metrics\n",
    "\n",
    "**Phase 2: Optimization (Months 3-4)**\n",
    "- Roll out winning onboarding improvements\n",
    "- Implement behavioral triggers and progress indicators\n",
    "- Launch referral program optimization (if social activation important)\n",
    "- Begin marketing channel reallocation based on activation quality\n",
    "\n",
    "**Phase 3: Scale (Months 5-6)**\n",
    "- Implement machine learning for personalized activation journeys\n",
    "- Launch cross-functional activation improvement task force\n",
    "- Build competitive advantage through superior activation experience\n",
    "- Measure business impact and plan next optimization cycle"
   ]
  },
  {
   "cell_type": "markdown",
   "metadata": {},
   "source": [
    "**Executive Presentation Structure:**\n",
    "1. **Situation**: Current activation crisis and competitive threat\n",
    "2. **Analysis**: Data-driven activation moment discovery\n",
    "3. **Strategy**: Three-phase implementation plan\n",
    "4. **Investment**: Resource requirements and expected ROI\n",
    "5. **Timeline**: 6-month roadmap with key milestones\n",
    "6. **Success Metrics**: KPIs and success measurement framework\n",
    "\n",
    "**Deliverable Format:**\n",
    "- Executive summary (1 page)\n",
    "- Implementation roadmap with timeline (1 page) \n",
    "- Business case with ROI projections (1 page)\n",
    "- Success metrics and tracking plan (1 page)"
   ]
  },
  {
   "cell_type": "markdown",
   "metadata": {},
   "source": [
    "---"
   ]
  },
  {
   "cell_type": "markdown",
   "metadata": {},
   "source": [
    "## Part 4: Executive Presentation (30 minutes)"
   ]
  },
  {
   "cell_type": "markdown",
   "metadata": {},
   "source": [
    "### **Your Final Deliverable: Board-Ready Presentation**\n",
    "\n",
    "Synthesize your analysis into a compelling executive presentation that demonstrates your activation mastery.\n",
    "\n",
    "**Presentation Structure:**\n",
    "1. **Executive Summary** - The activation crisis and your solution\n",
    "2. **Current State Analysis** - Data-driven diagnosis of the problem\n",
    "3. **Activation Discovery** - StreamFlow's equivalent of \"7 friends in 10 days\"\n",
    "4. **Strategic Recommendations** - Prioritized action plan\n",
    "5. **Business Impact** - ROI projections and success metrics\n",
    "6. **Implementation Roadmap** - Timeline and resource requirements\n",
    "\n",
    "**Success Criteria:**\n",
    "- Clear, compelling narrative backed by data\n",
    "- Actionable recommendations with business rationale\n",
    "- Professional visualizations and executive summary\n",
    "- Confident presentation of activation expertise"
   ]
  },
  {
   "cell_type": "markdown",
   "metadata": {},
   "source": [
    "---"
   ]
  },
  {
   "cell_type": "markdown",
   "metadata": {},
   "source": [
    "## Reflection and Learning Synthesis"
   ]
  },
  {
   "cell_type": "markdown",
   "metadata": {},
   "source": [
    "### **Key Questions for Reflection:**\n",
    "\n",
    "1. **Methodology Application**: How did Facebook's \"7 friends in 10 days\" methodology apply to StreamFlow's music platform context?\n",
    "\n",
    "2. **Insight Discovery**: What was your biggest insight about StreamFlow's activation challenges?\n",
    "\n",
    "3. **Strategic Thinking**: How did you prioritize competing product improvements based on activation impact?\n",
    "\n",
    "4. **Business Acumen**: What assumptions did you make about user behavior, and how did data validate or challenge them?\n",
    "\n",
    "5. **Implementation Reality**: What operational challenges would you expect in implementing your recommendations?"
   ]
  },
  {
   "cell_type": "markdown",
   "metadata": {},
   "source": [
    "### **Your Activation Mastery Achievement:**\n",
    "\n",
    "By completing this lab, you've demonstrated:\n",
    "- **Analytical Expertise**: Systematic activation analysis using proven methodologies\n",
    "- **Strategic Thinking**: Translation of behavioral insights into business strategy\n",
    "- **Executive Communication**: Board-level presentation of complex product analytics\n",
    "- **Implementation Planning**: Realistic roadmaps for activation optimization\n",
    "\n",
    "You now possess the same activation analysis capabilities that enabled Facebook's transformation from 45 million struggling users to 1 billion engaged users. These skills represent a critical competitive advantage in product analytics and growth strategy.\n",
    "\n",
    "---\n",
    "\n",
    "**Congratulations on completing Session 3: Activation Mastery!**  \n",
    "You're ready to bridge the gap between user acquisition and long-term retention through systematic activation analysis."
   ]
  }
 ],
 "metadata": {
  "kernelspec": {
   "display_name": "Python 3",
   "language": "python",
   "name": "python3"
  },
  "language_info": {
   "codemirror_mode": {
    "name": "ipython",
    "version": 3
   },
   "file_extension": ".py",
   "mimetype": "text/x-python",
   "name": "python",
   "nbconvert_exporter": "python",
   "pygments_lexer": "ipython3",
   "version": "3.8.5"
  }
 },
 "nbformat": 4,
 "nbformat_minor": 4
}