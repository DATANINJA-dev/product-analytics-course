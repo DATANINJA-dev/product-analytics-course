{
 "cells": [
  {
   "cell_type": "markdown",
   "metadata": {},
   "source": [
    "# Lab 04: Retention Mastery Challenge\n",
    "## StreamVault Retention Crisis: Apply Netflix's Methodology\n",
    "\n",
    "**Estimated Time**: 2-3 hours  \n",
    "**Difficulty**: Advanced  \n",
    "**Objective**: Diagnose StreamVault's retention crisis and design data-driven solutions\n",
    "\n",
    "---"
   ]
  },
  {
   "cell_type": "markdown",
   "metadata": {},
   "source": [
    "## Business Context: StreamVault's Retention Crisis\n",
    "\n",
    "**Company**: StreamVault  \n",
    "**Industry**: Video streaming platform (niche content: documentaries and educational programming)  \n",
    "**Founded**: 2020  \n",
    "**Current Situation**: Retention crisis threatening business viability\n",
    "\n",
    "### **The Crisis**\n",
    "\n",
    "StreamVault launched in 2020 with a focused content strategy: premium documentaries and educational series. Initial growth was strong, reaching 125,000 subscribers by January 2024. However, recent months have revealed a deteriorating retention problem:\n",
    "\n",
    "**Key Metrics (June 2024):**\n",
    "- **Total subscribers**: 135,200\n",
    "- **Monthly churn rate**: 15.8% (trending upward)\n",
    "- **New subscriber acquisition**: 25,200/month (expensive)\n",
    "- **Average viewing hours (week 1)**: 2.9 hours (declining)\n",
    "- **Customer Acquisition Cost**: $45 per subscriber\n",
    "- **Average subscription price**: $12.99/month\n",
    "\n",
    "### **The Financial Impact**\n",
    "\n",
    "```\n",
    "Current State (June 2024):\n",
    "Monthly churn rate: 15.8%\n",
    "Customers churned per month: 21,360\n",
    "Monthly recurring revenue lost: $277,460\n",
    "Annual churn rate: 82% (catastrophic)\n",
    "\n",
    "Customer Lifetime Value:\n",
    "LTV = $12.99 ÷ 0.158 = $82.22\n",
    "CAC: $45\n",
    "LTV:CAC ratio: 1.83 (unsustainable - need 3:1 minimum)\n",
    "\n",
    "Burn Rate:\n",
    "With current unit economics, StreamVault is burning capital.\n",
    "Runway: 14 months without improvement\n",
    "```\n",
    "\n",
    "### **CEO's Challenge to You**\n",
    "\n",
    "You've been hired as Head of Retention Analytics with a clear mandate:\n",
    "\n",
    "1. **Diagnose the retention crisis** using cohort analysis\n",
    "2. **Identify behavioral drivers** of retention vs churn\n",
    "3. **Build churn prediction model** to identify at-risk users\n",
    "4. **Design strategic intervention plan** with quantified ROI\n",
    "5. **Present findings to board** in 2 weeks\n",
    "\n",
    "You have access to:\n",
    "- 6 months of cohort performance data (Jan-Jun 2024)\n",
    "- Individual user viewing behavior sample (20 users)\n",
    "- Segment-level churn analysis (10 user segments)\n",
    "\n",
    "**Success Criteria:**\n",
    "- Reduce churn from 15.8% to <8% within 6 months\n",
    "- Increase LTV:CAC ratio from 1.83 to >3.0\n",
    "- Achieve sustainable unit economics\n",
    "- Build board-ready strategic plan"
   ]
  },
  {
   "cell_type": "markdown",
   "metadata": {},
   "source": [
    "---\n",
    "\n",
    "## Part 1: Cohort Analysis & Crisis Quantification (30-45 minutes)\n",
    "\n",
    "**Objective**: Understand the scope and evolution of StreamVault's retention crisis."
   ]
  },
  {
   "cell_type": "markdown",
   "metadata": {},
   "source": [
    "### Task 1.1: Load and Explore Cohort Data\n",
    "\n",
    "Load the StreamVault cohort data and calculate basic retention health metrics."
   ]
  },
  {
   "cell_type": "code",
   "execution_count": null,
   "metadata": {},
   "outputs": [],
   "source": [
    "# Import necessary libraries\n",
    "import pandas as pd\n",
    "import numpy as np\n",
    "import matplotlib.pyplot as plt\n",
    "import seaborn as sns\n",
    "\n",
    "# Set visualization style\n",
    "sns.set_style('whitegrid')\n",
    "plt.rcParams['figure.figsize'] = (14, 7)\n",
    "\n",
    "# TODO: Load streamvault_cohorts.csv\n",
    "# TODO: Display first few rows\n",
    "# TODO: Calculate summary statistics"
   ]
  },
  {
   "cell_type": "markdown",
   "metadata": {},
   "source": [
    "### Task 1.2: Churn Rate Trend Analysis\n",
    "\n",
    "**Questions to answer:**\n",
    "1. How has monthly churn rate evolved from January to June 2024?\n",
    "2. What is the current trajectory (accelerating, stable, improving)?\n",
    "3. How does this compare to Netflix's crisis period (7% peak)?  \n",
    "4. What is the annualized churn rate at current levels?\n",
    "\n",
    "**Deliverable**: Visualization showing churn rate trend with narrative explanation."
   ]
  },
  {
   "cell_type": "code",
   "execution_count": null,
   "metadata": {},
   "outputs": [],
   "source": [
    "# TODO: Calculate monthly churn rate statistics\n",
    "# TODO: Create line chart showing churn evolution\n",
    "# TODO: Add reference lines for sustainable vs crisis thresholds\n",
    "# TODO: Calculate annualized churn rate"
   ]
  },
  {
   "cell_type": "markdown",
   "metadata": {},
   "source": [
    "### Task 1.3: Retention Curve Analysis\n",
    "\n",
    "**Questions to answer:**\n",
    "1. How do different monthly cohorts retain over their lifecycle?\n",
    "2. Are recent cohorts performing worse than earlier cohorts?\n",
    "3. At what point do retention curves \"flatten\" (if at all)?\n",
    "4. What does the retention curve pattern (smiling/sliding/flat) reveal about business health?\n",
    "\n",
    "**Deliverable**: Multi-cohort retention curve visualization with strategic interpretation."
   ]
  },
  {
   "cell_type": "code",
   "execution_count": null,
   "metadata": {},
   "outputs": [],
   "source": [
    "# TODO: Select 3-4 representative cohorts for comparison\n",
    "# TODO: Create retention curve chart (months 1, 2, 3, 6)\n",
    "# TODO: Identify retention curve pattern type\n",
    "# TODO: Calculate retention \"cliff\" points"
   ]
  },
  {
   "cell_type": "markdown",
   "metadata": {},
   "source": [
    "### Task 1.4: LTV and Business Viability Analysis\n",
    "\n",
    "**Questions to answer:**\n",
    "1. What is StreamVault's current customer LTV?\n",
    "2. Given CAC of $45, what is the LTV:CAC ratio?\n",
    "3. What churn rate would achieve sustainable 3:1 LTV:CAC ratio?\n",
    "4. What is the monthly and annual revenue impact of current churn rates?\n",
    "\n",
    "**Deliverable**: Financial analysis showing business viability and required improvements."
   ]
  },
  {
   "cell_type": "code",
   "execution_count": null,
   "metadata": {},
   "outputs": [],
   "source": [
    "# TODO: Calculate current LTV (ARPU ÷ churn rate)\n",
    "# TODO: Calculate LTV:CAC ratio\n",
    "# TODO: Calculate target churn rate for 3:1 LTV:CAC\n",
    "# TODO: Quantify monthly/annual revenue at risk"
   ]
  },
  {
   "cell_type": "markdown",
   "metadata": {},
   "source": [
    "---\n",
    "\n",
    "## Part 2: Behavioral Pattern Analysis (45-60 minutes)\n",
    "\n",
    "**Objective**: Identify which user behaviors correlate with retention vs churn."
   ]
  },
  {
   "cell_type": "markdown",
   "metadata": {},
   "source": [
    "### Task 2.1: Individual User Behavior Analysis\n",
    "\n",
    "Load individual user data and compare active vs churned user behaviors."
   ]
  },
  {
   "cell_type": "code",
   "execution_count": null,
   "metadata": {},
   "outputs": [],
   "source": [
    "# TODO: Load streamvault_user_sample.csv\n",
    "# TODO: Separate active vs churned users\n",
    "# TODO: Calculate behavioral statistics for each group"
   ]
  },
  {
   "cell_type": "markdown",
   "metadata": {},
   "source": [
    "### Task 2.2: Content Consumption Pattern Recognition\n",
    "\n",
    "**Questions to answer:**\n",
    "1. How does week 1 viewing hours differ between active and churned users?\n",
    "2. What is the content completion rate difference?\n",
    "3. How does binge-watching behavior correlate with retention?\n",
    "4. What viewing trend patterns predict churn?\n",
    "\n",
    "**Deliverable**: Behavioral comparison analysis with correlation strengths."
   ]
  },
  {
   "cell_type": "code",
   "execution_count": null,
   "metadata": {},
   "outputs": [],
   "source": [
    "# TODO: Compare week1_hours between active/churned\n",
    "# TODO: Calculate content completion rates\n",
    "# TODO: Analyze binge session correlation\n",
    "# TODO: Examine viewing_trend as churn predictor"
   ]
  },
  {
   "cell_type": "markdown",
   "metadata": {},
   "source": [
    "### Task 2.3: Segment-Level Churn Analysis\n",
    "\n",
    "**Questions to answer:**\n",
    "1. Which user segments have highest/lowest churn rates?\n",
    "2. What behavioral patterns distinguish low-churn segments?\n",
    "3. Which segments represent biggest retention opportunities?\n",
    "4. What churn reasons dominate each segment?\n",
    "\n",
    "**Deliverable**: Segment prioritization matrix with strategic recommendations."
   ]
  },
  {
   "cell_type": "code",
   "execution_count": null,
   "metadata": {},
   "outputs": [],
   "source": [
    "# TODO: Load streamvault_segments.csv\n",
    "# TODO: Create churn rate by segment visualization\n",
    "# TODO: Identify behavioral patterns in low-churn segments\n",
    "# TODO: Calculate opportunity size (users × potential churn reduction)"
   ]
  },
  {
   "cell_type": "markdown",
   "metadata": {},
   "source": [
    "### Task 2.4: Key Retention Driver Identification\n",
    "\n",
    "Based on your analysis, identify StreamVault's equivalent of Netflix's key discoveries:\n",
    "\n",
    "**Netflix's Discoveries:**\n",
    "- 3+ hours viewing in week 1 = 85% retention\n",
    "- Content completion = 4x retention improvement\n",
    "- Binge-watching = 85% retention vs 38% baseline\n",
    "- Multi-device usage = 12x retention advantage\n",
    "\n",
    "**Your Task**: Find StreamVault's retention thresholds and correlations."
   ]
  },
  {
   "cell_type": "code",
   "execution_count": null,
   "metadata": {},
   "outputs": [],
   "source": [
    "# TODO: Identify week 1 viewing hour threshold for retention\n",
    "# TODO: Calculate content completion correlation strength\n",
    "# TODO: Determine device diversity impact\n",
    "# TODO: Find other significant behavioral predictors"
   ]
  },
  {
   "cell_type": "markdown",
   "metadata": {},
   "source": [
    "---\n",
    "\n",
    "## Part 3: Churn Prediction Model (30-45 minutes)\n",
    "\n",
    "**Objective**: Build early warning system to identify at-risk users before they churn."
   ]
  },
  {
   "cell_type": "markdown",
   "metadata": {},
   "source": [
    "### Task 3.1: Leading Indicator Identification\n",
    "\n",
    "**Questions to answer:**\n",
    "1. Which behavioral changes predict impending churn?\n",
    "2. What is the predictive window (days before cancellation)?\n",
    "3. How accurate are each leading indicator?\n",
    "\n",
    "**Deliverable**: Ranked list of churn leading indicators with predictive power."
   ]
  },
  {
   "cell_type": "code",
   "execution_count": null,
   "metadata": {},
   "outputs": [],
   "source": [
    "# TODO: Analyze viewing_trend as leading indicator\n",
    "# TODO: Examine session frequency decline\n",
    "# TODO: Test content completion rate changes\n",
    "# TODO: Calculate predictive accuracy for each indicator"
   ]
  },
  {
   "cell_type": "markdown",
   "metadata": {},
   "source": [
    "### Task 3.2: Risk Scoring Model Development\n",
    "\n",
    "Build a simple churn risk scoring model combining multiple factors:\n",
    "\n",
    "**Suggested Approach (similar to Netflix in 04B):**\n",
    "- Viewing trend: 35% weight\n",
    "- Session frequency: 25% weight\n",
    "- Content completion: 20% weight\n",
    "- Engagement level: 20% weight\n",
    "\n",
    "**Deliverable**: Risk scoring function and validation results."
   ]
  },
  {
   "cell_type": "code",
   "execution_count": null,
   "metadata": {},
   "outputs": [],
   "source": [
    "# TODO: Create calculate_churn_risk() function\n",
    "# TODO: Apply to user sample data\n",
    "# TODO: Classify users into high/medium/low risk\n",
    "# TODO: Validate model accuracy against actual churn"
   ]
  },
  {
   "cell_type": "markdown",
   "metadata": {},
   "source": [
    "### Task 3.3: Intervention Window Analysis\n",
    "\n",
    "**Questions to answer:**\n",
    "1. How many days before cancellation can you detect risk?\n",
    "2. What percentage of at-risk users can be identified in time?\n",
    "3. How does intervention timing affect save rate?\n",
    "\n",
    "**Deliverable**: Intervention timing recommendations with expected save rates."
   ]
  },
  {
   "cell_type": "code",
   "execution_count": null,
   "metadata": {},
   "outputs": [],
   "source": [
    "# TODO: Estimate detection window based on viewing trends\n",
    "# TODO: Calculate percentage of detectable churn\n",
    "# TODO: Model intervention effectiveness by timing"
   ]
  },
  {
   "cell_type": "markdown",
   "metadata": {},
   "source": [
    "---\n",
    "\n",
    "## Part 4: Strategic Retention Plan (45-60 minutes)\n",
    "\n",
    "**Objective**: Design comprehensive retention strategy with quantified ROI."
   ]
  },
  {
   "cell_type": "markdown",
   "metadata": {},
   "source": [
    "### Task 4.1: Retention Investment ROI Modeling\n",
    "\n",
    "**Scenario**: You have $500K budget for retention improvements\n",
    "\n",
    "**Questions to answer:**\n",
    "1. What churn reduction is achievable with this investment?\n",
    "2. What is the expected ROI over 12 months? 24 months?\n",
    "3. How does this compare to spending on acquisition?\n",
    "4. What is the break-even timeline?\n",
    "\n",
    "**Deliverable**: Financial model showing retention investment ROI."
   ]
  },
  {
   "cell_type": "code",
   "execution_count": null,
   "metadata": {},
   "outputs": [],
   "source": [
    "# TODO: Model churn reduction scenarios (15.8% → 12%, 10%, 8%)\n",
    "# TODO: Calculate additional revenue from reduced churn\n",
    "# TODO: Calculate ROI at different churn reduction levels\n",
    "# TODO: Compare to acquisition investment ROI"
   ]
  },
  {
   "cell_type": "markdown",
   "metadata": {},
   "source": [
    "### Task 4.2: Strategic Initiative Prioritization\n",
    "\n",
    "Design 3-5 strategic initiatives based on your analysis:\n",
    "\n",
    "**Framework** (from 04C):\n",
    "1. **Quick Wins** (High Impact, Low Cost)\n",
    "2. **Strategic Investments** (High Impact, High Cost)\n",
    "3. **Foundation Building** (Medium Impact, Medium Cost)\n",
    "4. **Defensive Measures** (Variable Impact, Low Cost)\n",
    "\n",
    "**For Each Initiative, Specify:**\n",
    "- Objective (what problem it solves)\n",
    "- Behavioral insight supporting it\n",
    "- Target user segment\n",
    "- Investment required\n",
    "- Expected churn reduction\n",
    "- Timeline\n",
    "- Success metrics\n",
    "\n",
    "**Deliverable**: Prioritized initiative roadmap with ROI estimates."
   ]
  },
  {
   "cell_type": "markdown",
   "metadata": {},
   "source": [
    "**Example Initiative Template:**\n",
    "\n",
    "```\n",
    "Initiative 1: Early Engagement Onboarding\n",
    "Category: Quick Win\n",
    "Objective: Drive users to 5+ hours viewing in week 1 (activation threshold)\n",
    "Insight: Users with <3 hours week 1 have 60% churn vs 5% for high viewers\n",
    "Target: All new signups (25K/month)\n",
    "Investment: $75K (onboarding redesign + personalized content recommendations)\n",
    "Expected Impact: Move 30% of low-engagement users to medium engagement\n",
    "Churn Reduction: 2.5 percentage points (15.8% → 13.3%)\n",
    "Timeline: 2 months development, 4 months impact measurement\n",
    "Success Metrics: Week 1 avg hours >4.0, 30-day retention >75%\n",
    "ROI: $1.2M annual revenue / $75K investment = 1,500% first-year ROI\n",
    "```"
   ]
  },
  {
   "cell_type": "code",
   "execution_count": null,
   "metadata": {},
   "outputs": [],
   "source": [
    "# TODO: Design 3-5 strategic initiatives\n",
    "# TODO: Calculate expected impact of each\n",
    "# TODO: Prioritize by ROI and strategic importance\n",
    "# TODO: Create initiative roadmap timeline"
   ]
  },
  {
   "cell_type": "markdown",
   "metadata": {},
   "source": [
    "### Task 4.3: Proactive Intervention Campaign Design\n",
    "\n",
    "Design at-risk user intervention campaigns:\n",
    "\n",
    "**For Each Risk Level (High/Medium/Low):**\n",
    "- Trigger criteria\n",
    "- Intervention actions\n",
    "- Message personalization strategy\n",
    "- Channel mix (email, in-app, push)\n",
    "- Frequency caps\n",
    "- Success metrics\n",
    "- Expected save rate\n",
    "\n",
    "**Deliverable**: Campaign architecture with expected business impact."
   ]
  },
  {
   "cell_type": "code",
   "execution_count": null,
   "metadata": {},
   "outputs": [],
   "source": [
    "# TODO: Define risk level triggers and actions\n",
    "# TODO: Estimate at-risk user population\n",
    "# TODO: Model intervention save rates\n",
    "# TODO: Calculate campaign ROI (saved revenue vs cost)"
   ]
  },
  {
   "cell_type": "markdown",
   "metadata": {},
   "source": [
    "### Task 4.4: Executive Summary & Board Presentation\n",
    "\n",
    "Create executive summary following strategic narrative framework from 04C:\n",
    "\n",
    "**Structure:**\n",
    "1. **Business Context** (30 seconds)\n",
    "   - Current crisis severity and financial impact\n",
    "   - Comparison to industry benchmarks\n",
    "   \n",
    "2. **Key Insights** (1 minute)\n",
    "   - Top 3 behavioral retention drivers\n",
    "   - Segment opportunities\n",
    "   - Churn prediction capabilities\n",
    "   \n",
    "3. **Strategic Recommendations** (1 minute)\n",
    "   - 3-5 prioritized initiatives with ROI\n",
    "   - Total investment and expected return\n",
    "   - Timeline to achieve <8% churn target\n",
    "   \n",
    "4. **Risk Mitigation** (30 seconds)\n",
    "   - Key risks and mitigation strategies\n",
    "   - Fallback plans\n",
    "   - Success metrics and checkpoints\n",
    "\n",
    "**Deliverable**: Written executive summary (1-2 pages) + key visualizations."
   ]
  },
  {
   "cell_type": "markdown",
   "metadata": {},
   "source": [
    "---\n",
    "\n",
    "## Submission Requirements\n",
    "\n",
    "Your completed lab should include:\n",
    "\n",
    "### **1. Analytical Outputs**\n",
    "- [ ] Churn rate trend analysis with visualization\n",
    "- [ ] Retention curve comparison across cohorts\n",
    "- [ ] LTV and business viability calculations\n",
    "- [ ] Behavioral pattern analysis (active vs churned)\n",
    "- [ ] Segment-level churn breakdown\n",
    "- [ ] Churn prediction model with validation\n",
    "\n",
    "### **2. Strategic Deliverables**\n",
    "- [ ] Retention investment ROI model\n",
    "- [ ] 3-5 prioritized strategic initiatives with ROI\n",
    "- [ ] Proactive intervention campaign design\n",
    "- [ ] Executive summary (1-2 pages)\n",
    "- [ ] Board presentation slides (5-7 slides)\n",
    "\n",
    "### **3. Code Quality**\n",
    "- [ ] Clean, well-commented Python code\n",
    "- [ ] Professional visualizations with clear labels\n",
    "- [ ] Logical flow and narrative throughout\n",
    "- [ ] Reproducible analysis\n",
    "\n",
    "### **4. Business Thinking**\n",
    "- [ ] Strategic insights, not just data reporting\n",
    "- [ ] Quantified business impact for all recommendations\n",
    "- [ ] Risk-aware planning with contingencies\n",
    "- [ ] Executive-level communication clarity"
   ]
  },
  {
   "cell_type": "markdown",
   "metadata": {},
   "source": [
    "---\n",
    "\n",
    "## Success Criteria\n",
    "\n",
    "Your lab will be evaluated on:\n",
    "\n",
    "**Analytical Rigor (40%)**\n",
    "- Correct retention metric calculations\n",
    "- Thorough cohort and behavioral analysis\n",
    "- Valid churn prediction methodology\n",
    "- Data-driven insights\n",
    "\n",
    "**Strategic Thinking (35%)**\n",
    "- Prioritized initiatives with clear ROI\n",
    "- Realistic intervention campaigns\n",
    "- Business viability assessment\n",
    "- Risk-aware planning\n",
    "\n",
    "**Communication (25%)**\n",
    "- Clear executive summary\n",
    "- Professional visualizations\n",
    "- Compelling narrative\n",
    "- Board-ready presentation\n",
    "\n",
    "**Target Outcomes:**\n",
    "- Path to reduce churn from 15.8% to <8%\n",
    "- LTV:CAC improvement from 1.83 to >3.0\n",
    "- $500K investment generating >$2M annual value\n",
    "- Sustainable unit economics within 12 months"
   ]
  },
  {
   "cell_type": "markdown",
   "metadata": {},
   "source": [
    "---\n",
    "\n",
    "## Getting Started\n",
    "\n",
    "Begin with Part 1 and work through systematically. Apply the methodologies you learned in:\n",
    "- **04A**: Churn calculations, cohort construction, LTV modeling\n",
    "- **04B**: Multi-dimensional segmentation, behavioral patterns, churn prediction\n",
    "- **04C**: ROI modeling, strategic frameworks, executive communication\n",
    "\n",
    "Remember: You're solving a real business crisis. Your recommendations will determine whether StreamVault achieves sustainable growth or runs out of runway.\n",
    "\n",
    "**Good luck!** 🚀"
   ]
  }
 ],
 "metadata": {
  "kernelspec": {
   "display_name": "Python 3",
   "language": "python",
   "name": "python3"
  },
  "language_info": {
   "name": "python",
   "version": "3.8.0"
  }
 },
 "nbformat": 4,
 "nbformat_minor": 4
}
